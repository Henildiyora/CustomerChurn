{
 "cells": [
  {
   "cell_type": "code",
   "execution_count": null,
   "id": "a8da8055",
   "metadata": {
    "vscode": {
     "languageId": "plaintext"
    }
   },
   "outputs": [],
   "source": [
    "import pandas as pd\n",
    "import xgboost as xgb\n",
    "import matplotlib.pyplot as plt\n",
    "import boto3\n",
    "import tarfile\n",
    "import os"
   ]
  },
  {
   "cell_type": "code",
   "execution_count": null,
   "id": "221b954e",
   "metadata": {
    "vscode": {
     "languageId": "plaintext"
    }
   },
   "outputs": [],
   "source": [
    "# Download model artifact from S3\n",
    "s3 = boto3.client('s3')\n",
    "bucket = 'your-bucket-name'\n",
    "s3.download_file(bucket, 'output/xgboost-YYYY-MM-DD-HH-MM-SS-XXX/model.tar.gz', 'model.tar.gz')\n"
   ]
  },
  {
   "cell_type": "code",
   "execution_count": null,
   "id": "787a4729",
   "metadata": {
    "vscode": {
     "languageId": "plaintext"
    }
   },
   "outputs": [],
   "source": [
    "# Extract model\n",
    "with tarfile.open('model.tar.gz', 'r:gz') as tar:\n",
    "    tar.extractall('model')"
   ]
  },
  {
   "cell_type": "code",
   "execution_count": null,
   "id": "a3670d51",
   "metadata": {
    "vscode": {
     "languageId": "plaintext"
    }
   },
   "outputs": [],
   "source": [
    "# Load model\n",
    "model = xgb.Booster()\n",
    "model.load_model('model/xgboost-model')"
   ]
  },
  {
   "cell_type": "code",
   "execution_count": null,
   "id": "793f3fbd",
   "metadata": {
    "vscode": {
     "languageId": "plaintext"
    }
   },
   "outputs": [],
   "source": [
    "# Load data to get feature names\n",
    "data = pd.read_csv('data/telco_churn.csv')\n",
    "data = data.drop(columns=['customerID', 'Churn'])\n",
    "feature_names = data.columns"
   ]
  },
  {
   "cell_type": "code",
   "execution_count": null,
   "id": "ac8895b9",
   "metadata": {
    "vscode": {
     "languageId": "plaintext"
    }
   },
   "outputs": [],
   "source": [
    "# Get feature importance\n",
    "importance = model.get_score(importance_type='gain')\n",
    "importance = {feature_names[int(k.replace('f', ''))]: v for k, v in importance.items()}"
   ]
  },
  {
   "cell_type": "code",
   "execution_count": null,
   "id": "07add4e0",
   "metadata": {
    "vscode": {
     "languageId": "plaintext"
    }
   },
   "outputs": [],
   "source": [
    "# Plot\n",
    "plt.figure(figsize=(10, 6))\n",
    "pd.Series(importance).sort_values().plot(kind='barh')\n",
    "plt.title('Feature Importance for Churn Prediction')\n",
    "plt.xlabel('Gain')\n",
    "plt.savefig('feature_importance.png')\n",
    "plt.show()"
   ]
  }
 ],
 "metadata": {
  "language_info": {
   "name": "python"
  }
 },
 "nbformat": 4,
 "nbformat_minor": 5
}
